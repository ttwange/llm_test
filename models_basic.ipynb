{
 "cells": [
  {
   "cell_type": "code",
   "execution_count": 1,
   "metadata": {},
   "outputs": [
    {
     "name": "stderr",
     "output_type": "stream",
     "text": [
      "\n",
      "[notice] A new release of pip available: 22.2.2 -> 23.3.1\n",
      "[notice] To update, run: python.exe -m pip install --upgrade pip\n"
     ]
    },
    {
     "name": "stdout",
     "output_type": "stream",
     "text": [
      "Requirement already satisfied: python-dotenv in c:\\users\\user\\desktop\\openapi\\test\\.venv\\lib\\site-packages (1.0.0)\n",
      "Requirement already satisfied: openai in c:\\users\\user\\desktop\\openapi\\test\\.venv\\lib\\site-packages (1.3.3)\n",
      "Requirement already satisfied: httpx<1,>=0.23.0 in c:\\users\\user\\desktop\\openapi\\test\\.venv\\lib\\site-packages (from openai) (0.25.1)\n",
      "Requirement already satisfied: tqdm>4 in c:\\users\\user\\desktop\\openapi\\test\\.venv\\lib\\site-packages (from openai) (4.66.1)\n",
      "Requirement already satisfied: anyio<4,>=3.5.0 in c:\\users\\user\\desktop\\openapi\\test\\.venv\\lib\\site-packages (from openai) (3.7.1)\n",
      "Requirement already satisfied: distro<2,>=1.7.0 in c:\\users\\user\\desktop\\openapi\\test\\.venv\\lib\\site-packages (from openai) (1.8.0)\n",
      "Requirement already satisfied: typing-extensions<5,>=4.5 in c:\\users\\user\\desktop\\openapi\\test\\.venv\\lib\\site-packages (from openai) (4.8.0)\n",
      "Requirement already satisfied: pydantic<3,>=1.9.0 in c:\\users\\user\\desktop\\openapi\\test\\.venv\\lib\\site-packages (from openai) (2.5.1)\n",
      "Requirement already satisfied: sniffio>=1.1 in c:\\users\\user\\desktop\\openapi\\test\\.venv\\lib\\site-packages (from anyio<4,>=3.5.0->openai) (1.3.0)\n",
      "Requirement already satisfied: idna>=2.8 in c:\\users\\user\\desktop\\openapi\\test\\.venv\\lib\\site-packages (from anyio<4,>=3.5.0->openai) (3.4)\n",
      "Requirement already satisfied: exceptiongroup in c:\\users\\user\\desktop\\openapi\\test\\.venv\\lib\\site-packages (from anyio<4,>=3.5.0->openai) (1.1.3)\n",
      "Requirement already satisfied: certifi in c:\\users\\user\\desktop\\openapi\\test\\.venv\\lib\\site-packages (from httpx<1,>=0.23.0->openai) (2023.11.17)\n",
      "Requirement already satisfied: httpcore in c:\\users\\user\\desktop\\openapi\\test\\.venv\\lib\\site-packages (from httpx<1,>=0.23.0->openai) (1.0.2)\n",
      "Requirement already satisfied: annotated-types>=0.4.0 in c:\\users\\user\\desktop\\openapi\\test\\.venv\\lib\\site-packages (from pydantic<3,>=1.9.0->openai) (0.6.0)\n",
      "Requirement already satisfied: pydantic-core==2.14.3 in c:\\users\\user\\desktop\\openapi\\test\\.venv\\lib\\site-packages (from pydantic<3,>=1.9.0->openai) (2.14.3)\n",
      "Requirement already satisfied: colorama in c:\\users\\user\\desktop\\openapi\\test\\.venv\\lib\\site-packages (from tqdm>4->openai) (0.4.6)\n",
      "Requirement already satisfied: h11<0.15,>=0.13 in c:\\users\\user\\desktop\\openapi\\test\\.venv\\lib\\site-packages (from httpcore->httpx<1,>=0.23.0->openai) (0.14.0)\n"
     ]
    },
    {
     "name": "stderr",
     "output_type": "stream",
     "text": [
      "\n",
      "[notice] A new release of pip available: 22.2.2 -> 23.3.1\n",
      "[notice] To update, run: python.exe -m pip install --upgrade pip\n"
     ]
    }
   ],
   "source": [
    "!pip install python-dotenv\n",
    "!pip install openai"
   ]
  },
  {
   "cell_type": "code",
   "execution_count": 2,
   "metadata": {},
   "outputs": [],
   "source": [
    "import os\n",
    "import openai\n",
    "from dotenv import load_dotenv, find_dotenv\n",
    "\n",
    "load_dotenv(find_dotenv())\n",
    "openai.api_key = os.getenv('OPENAI_API_KEY')"
   ]
  },
  {
   "cell_type": "code",
   "execution_count": 4,
   "metadata": {},
   "outputs": [],
   "source": [
    "def chat(input):\n",
    "  messages = [{'role':'user','content': input}]\n",
    "  response = openai.ChatCompletion.create(\n",
    "    model=\"gpt-3.5-turbo\",\n",
    "    messages=messages,\n",
    "    temperature=0,\n",
    "  )\n",
    "  return response['choices'][0].message[\"content\"]"
   ]
  },
  {
   "cell_type": "code",
   "execution_count": null,
   "metadata": {},
   "outputs": [],
   "source": []
  }
 ],
 "metadata": {
  "kernelspec": {
   "display_name": ".venv",
   "language": "python",
   "name": "python3"
  },
  "language_info": {
   "codemirror_mode": {
    "name": "ipython",
    "version": 3
   },
   "file_extension": ".py",
   "mimetype": "text/x-python",
   "name": "python",
   "nbconvert_exporter": "python",
   "pygments_lexer": "ipython3",
   "version": "3.10.7"
  }
 },
 "nbformat": 4,
 "nbformat_minor": 2
}
